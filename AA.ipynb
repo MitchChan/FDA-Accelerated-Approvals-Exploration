{
 "cells": [
  {
   "cell_type": "code",
   "execution_count": null,
   "metadata": {},
   "outputs": [],
   "source": [
    "import pandas as pd\n",
    "import tabula\n",
    "\n",
    "# Path to the PDF file\n",
    "pdf_path = 'CDERAA.pdf'\n",
    "\n",
    "# Extract tables from the PDF\n",
    "tables = tabula.read_pdf(pdf_path, pages='all', multiple_tables=True, lattice=True)\n",
    "\n",
    "# Combine all extracted tables into a single DataFrame\n",
    "df_combined = pd.concat(tables, ignore_index=True)"
   ]
  },
  {
   "cell_type": "markdown",
   "metadata": {},
   "source": [
    "PreProcessing Stage"
   ]
  },
  {
   "cell_type": "code",
   "execution_count": null,
   "metadata": {},
   "outputs": [],
   "source": [
    "# Remove the first 3 rows\n",
    "df_combined = df_combined.iloc[4:].reset_index(drop=True)\n",
    "\n",
    "# Set the first row as the header\n",
    "df_combined.columns = df_combined.iloc[0]\n",
    "df_combined = df_combined[1:].reset_index(drop=True)\n",
    "\n",
    "# Remove extra spaces/double spaces\n",
    "df_combined.columns = df_combined.columns.str.replace(r'\\s+', ' ', regex=True)\n"
   ]
  },
  {
   "cell_type": "code",
   "execution_count": null,
   "metadata": {},
   "outputs": [],
   "source": [
    "# Display rows where the 'Proprietary Name' column is NaN\n",
    "nan_rows = df_combined[df_combined['Established Name'].isna()]\n",
    "print(nan_rows)"
   ]
  },
  {
   "cell_type": "code",
   "execution_count": null,
   "metadata": {},
   "outputs": [],
   "source": [
    "# Drop rows that contain NaN in Established Name\n",
    "# Established name should always have a value in this list. \n",
    "# This provides an accurate way of knowing which rows are junk text from the PDF\n",
    "df_combined = df_combined.dropna(subset=['Established Name'])"
   ]
  },
  {
   "cell_type": "code",
   "execution_count": null,
   "metadata": {},
   "outputs": [],
   "source": [
    "# Some App #s have a superscript. Let's remove it.\n",
    "\n",
    "def remove_appnum_hangingdigit(row):\n",
    "    if row['Proprietary Name'] == 'KEYTRUDA' and row['Application Number'].endswith('4'):\n",
    "        return row['Application Number'][:-1]\n",
    "    elif row['Proprietary Name'] == 'RUBRACA' and row['Application Number'].endswith('5'):\n",
    "        return row['Application Number'][:-1]\n",
    "    return row['Application Number']\n",
    "\n",
    "\n",
    "# Apply the function to the DF\n",
    "df_combined['Application Number'] = df_combined.apply(remove_appnum_hangingdigit, axis=1)"
   ]
  },
  {
   "cell_type": "code",
   "execution_count": null,
   "metadata": {},
   "outputs": [],
   "source": [
    "# Split Application Number and Supplement Number\n",
    "# Regex \\d means to 'match any digit'\n",
    "df_combined['Supplement Number'] = df_combined['Application Number'].str.extract(r'(Supplement \\d+)', expand=False)\n",
    "\n",
    "# Cleam the original \"Application Number\" column to remove the \"Supplement\" part\n",
    "df_combined['Application Number'] = df_combined['Application Number'].str.replace(r'\\s*Supplement \\d+', '', regex=True)\n",
    "\n",
    "# Remove non-integer characters and convert to integers\n",
    "# Regex: /D identifies any character not a digit\n",
    "df_combined['Total Time to Accelerated Approval (Months)'] = df_combined['Total Time to Accelerated Approval (Months)'].str.replace(r'\\D', '', regex=True)\n",
    "df_combined = df_combined[~df_combined['Total Time to Accelerated Approval (Months)'].astype(str).str.contains('†', regex=False)]\n",
    "\n",
    "# The column contains dates that have extra numbers, making it invalid\n",
    "# This code ensures the dates are in a date format and removes extra numbers\n",
    "df_combined['Full Approval Conversion- Withdrawal Date'] = df_combined['Full Approval Conversion- Withdrawal Date'].str.split().str[0]\n",
    "\n",
    "# Check for # of NaN/NaT\n",
    "\n",
    "numofnans = df_combined['Full Approval Conversion- Withdrawal Date'].isna().sum()\n",
    "print(numofnans)\n",
    "\n",
    "# convert to datetime, coerce errors to Not a Time\n",
    "# Removes any NaN/NaT\n",
    "df_combined['Full Approval Conversion- Withdrawal Date'] = pd.to_datetime(df_combined['Full Approval Conversion- Withdrawal Date'], errors='coerce')\n",
    "\n",
    "# Check again for # of NaN just to make sure we didn't remove things that shouldn't have\n",
    "numofnans = df_combined['Full Approval Conversion- Withdrawal Date'].isna().sum()\n",
    "print(numofnans)"
   ]
  },
  {
   "cell_type": "code",
   "execution_count": null,
   "metadata": {},
   "outputs": [],
   "source": [
    "# Change column dtypes \n",
    "\n",
    "df_combined['Application Number'] = df_combined['Application Number'].astype(\"string\")\n",
    "df_combined['Proprietary Name'] = df_combined['Proprietary Name'].astype(\"string\")\n",
    "df_combined['Established Name'] = df_combined['Established Name'].astype('string')\n",
    "df_combined['Applicant'] = df_combined['Applicant'].astype(\"string\")\n",
    "df_combined['FDA Received Date'] = df_combined['FDA Received Date'].astype(\"datetime64[ns]\")\n",
    "df_combined['Accelerated Approval Date'] = df_combined['Accelerated Approval Date'].astype(\"datetime64[ns]\")\n",
    "df_combined['Total Time to Accelerated Approval (Months)'] = df_combined['Total Time to Accelerated Approval (Months)'].astype(\"float\")\n",
    "df_combined['Accelerated Approval Indication'] = df_combined['Accelerated Approval Indication'].astype(\"string\")\n",
    "df_combined['Conversion-Withdrawal Status'] = df_combined['Conversion-Withdrawal Status'].astype(\"string\")\n",
    "df_combined['Full Approval Conversion- Withdrawal Date'] = df_combined['Full Approval Conversion- Withdrawal Date'].astype(\"datetime64[ns]\")\n",
    "df_combined['Supplement Number'] = df_combined['Supplement Number'].astype(\"string\")\n",
    "\n",
    "# Define desired order\n",
    "desired_order = ['Application Number', 'Supplement Number', 'Proprietary Name', 'Established Name', 'Applicant', 'FDA Received Date', 'Accelerated Approval Date', 'Total Time to Accelerated Approval (Months)', 'Accelerated Approval Indication', 'Conversion-Withdrawal Status', 'Full Approval Conversion- Withdrawal Date', 'Supplement Number']\n",
    "# Re-index the dataframe\n",
    "df_combined = df_combined[desired_order]\n",
    "\n"
   ]
  },
  {
   "cell_type": "code",
   "execution_count": null,
   "metadata": {},
   "outputs": [],
   "source": [
    "# Replace Supplement Number NaN values with a space, for cleanliness\n",
    "df_combined['Supplement Number'] = df_combined['Supplement Number'].fillna(' ')\n",
    "\n",
    "# Replace NaN in 'Total Time to Accelerated Approval (Months)' with None (null)\n",
    "df_combined['Total Time to Accelerated Approval (Months)'] = df_combined['Total Time to Accelerated Approval (Months)'].where(pd.notnull(df_combined['Total Time to Accelerated Approval (Months)']), None)\n"
   ]
  },
  {
   "cell_type": "code",
   "execution_count": null,
   "metadata": {},
   "outputs": [],
   "source": [
    "# Check datatypes\n",
    "df_combined.dtypes"
   ]
  },
  {
   "cell_type": "code",
   "execution_count": null,
   "metadata": {},
   "outputs": [],
   "source": [
    "# check columns\n",
    "df_combined.columns"
   ]
  }
 ],
 "metadata": {
  "kernelspec": {
   "display_name": "Python 3",
   "language": "python",
   "name": "python3"
  },
  "language_info": {
   "codemirror_mode": {
    "name": "ipython",
    "version": 3
   },
   "file_extension": ".py",
   "mimetype": "text/x-python",
   "name": "python",
   "nbconvert_exporter": "python",
   "pygments_lexer": "ipython3",
   "version": "3.12.4"
  }
 },
 "nbformat": 4,
 "nbformat_minor": 2
}
