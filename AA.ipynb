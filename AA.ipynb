{
 "cells": [
  {
   "cell_type": "markdown",
   "metadata": {},
   "source": [
    "FDA Accelerated Approval Data"
   ]
  },
  {
   "cell_type": "code",
   "execution_count": null,
   "metadata": {},
   "outputs": [],
   "source": [
    "import tabula\n",
    "import pandas as pd\n",
    "import re\n",
    "\n",
    "# Path to the PDF file\n",
    "pdf_path = 'CDERAA.pdf'\n",
    "\n",
    "# Extract tables from the PDF\n",
    "tables = tabula.read_pdf(pdf_path, pages='all', multiple_tables=True, lattice=True)\n",
    "\n",
    "# Combine all extracted tables into a single DataFrame\n",
    "df_combined = pd.concat(tables, ignore_index=True)"
   ]
  },
  {
   "cell_type": "markdown",
   "metadata": {},
   "source": [
    "PreProcessing"
   ]
  },
  {
   "cell_type": "code",
   "execution_count": null,
   "metadata": {},
   "outputs": [],
   "source": [
    "# Remove the first 3 rows\n",
    "df_combined = df_combined.iloc[4:].reset_index(drop=True)\n",
    "\n",
    "# Set the first row as the header\n",
    "df_combined.columns = df_combined.iloc[0]\n",
    "df_combined = df_combined[1:].reset_index(drop=True)\n",
    "\n",
    "# Remove extra spaces/double spaces\n",
    "df_combined.columns = df_combined.columns.str.replace(r'\\s+', ' ', regex=True)\n"
   ]
  },
  {
   "cell_type": "code",
   "execution_count": null,
   "metadata": {},
   "outputs": [],
   "source": [
    "# Drop rows that contain NaN in Established Name\n",
    "# Established name should always have a value in this list. \n",
    "# This provides an accurate way of knowing which rows are junk text from the PDF\n",
    "df_combined = df_combined.dropna(subset=['Established Name'])"
   ]
  },
  {
   "cell_type": "code",
   "execution_count": null,
   "metadata": {},
   "outputs": [],
   "source": [
    "# Split Application Number and Supplement Number\n",
    "# Regex \\d means to 'match any digit'\n",
    "df_combined['Supplement'] = df_combined['Application Number'].str.extract(r'(Supplement \\d+)', expand=False)\n",
    "\n",
    "# Rename the 'Supplement' column to 'Supplement'\n",
    "# df_combined.rename(columns={'Supplement': 'Supplement'}, inplace=True)\n",
    "\n",
    "# Extract numbers into a new column 'Supplement Number'\n",
    "df_combined['Supplement Number'] = df_combined['Supplement'].str.extract(r'(\\d+)', expand=False)\n",
    "\n",
    "# Replace 'Supplement' with 'SUPPL' in the 'Supplement' column and remove numbers\n",
    "df_combined['Supplement'] = df_combined['Supplement'].str.replace(r'Supplement \\d+', 'SUPPL', regex=True).str.strip()\n",
    "\n",
    "# Clean the original \"Application Number\" column to remove the \"Supplement\" part\n",
    "df_combined['Application Number'] = df_combined['Application Number'].str.replace(r'\\s*Supplement \\d+', '', regex=True)\n",
    "\n",
    "# Take out Original # and put it in its own column. Then remove Original from Application Number column\n",
    "df_combined['Original'] = df_combined['Application Number'].str.extract(r'(Original \\d+)', expand=False)\n",
    "df_combined['Application Number'] = df_combined['Application Number'].str.replace(r'\\s*Original \\d+', '', regex=True)\n",
    "\n",
    "# Replace 'Original' with 'ORIG' in the specified column\n",
    "df_combined['Original'] = df_combined['Original'].str.replace(r'Original', 'ORIG', regex=True)\n",
    "\n",
    "# Remove non-integer characters and convert to integers\n",
    "# Regex: \\D identifies any character not a digit\n",
    "# df_combined['Total Time to Accelerated Approval (Months)'] = df_combined['Total Time to Accelerated Approval (Months)'].str.replace(r'\\D', '', regex=True)\n",
    "df_combined['Total Time to Accelerated Approval (Months)'] = df_combined['Total Time to Accelerated Approval (Months)'].astype(str).str.replace('†', '')\n",
    "\n",
    "# The column contains dates that have extra numbers, making it invalid\n",
    "# This code ensures the dates are in a date format and removes extra numbers\n",
    "df_combined['Full Approval Conversion- Withdrawal Date'] = df_combined['Full Approval Conversion- Withdrawal Date'].astype(str).str.split().str[0]\n",
    "\n",
    "# Check for # of NaN/NaT\n",
    "# numofnans = df_combined['Full Approval Conversion- Withdrawal Date'].isna().sum()\n",
    "# print(numofnans)\n",
    "\n",
    "# Convert to datetime, coerce errors to Not a Time\n",
    "# Removes any NaN/NaT\n",
    "df_combined['Full Approval Conversion- Withdrawal Date'] = pd.to_datetime(df_combined['Full Approval Conversion- Withdrawal Date'], errors='coerce')\n",
    "\n",
    "# Check again for of NaN just to make sure we didn't remove things that shouldn't have\n",
    "numofnans = df_combined['Full Approval Conversion- Withdrawal Date'].isna().sum()\n",
    "# print(numofnans)\n"
   ]
  },
  {
   "cell_type": "code",
   "execution_count": null,
   "metadata": {},
   "outputs": [],
   "source": [
    "# Some App #s have a superscript. Let's remove it.\n",
    "\n",
    "def remove_appnum_hangingdigit(row):\n",
    "    if row['Proprietary Name'] == 'KEYTRUDA' and row['Application Number'].endswith(' 4'):\n",
    "        return row['Application Number'][:-1]\n",
    "    elif row['Proprietary Name'] == 'RUBRACA' and row['Application Number'].endswith(' 5'):\n",
    "        return row['Application Number'][:-1]\n",
    "    return row['Application Number']\n",
    "\n",
    "\n",
    "# Apply the function to the DF\n",
    "df_combined['Application Number'] = df_combined.apply(remove_appnum_hangingdigit, axis=1)"
   ]
  },
  {
   "cell_type": "code",
   "execution_count": null,
   "metadata": {},
   "outputs": [],
   "source": [
    "\n",
    "# Change column dtypes\n",
    "df_combined['Application Number'] = df_combined['Application Number'].astype(\"string\").str.strip()\n",
    "df_combined['Proprietary Name'] = df_combined['Proprietary Name'].astype(\"string\")\n",
    "df_combined['Established Name'] = df_combined['Established Name'].astype('string')\n",
    "df_combined['Applicant'] = df_combined['Applicant'].astype(\"string\")\n",
    "df_combined['FDA Received Date'] = pd.to_datetime(df_combined['FDA Received Date'])\n",
    "df_combined['Accelerated Approval Date'] = pd.to_datetime(df_combined['Accelerated Approval Date'])\n",
    "df_combined['Total Time to Accelerated Approval (Months)'] = df_combined['Total Time to Accelerated Approval (Months)'].astype(\"float\")\n",
    "df_combined['Accelerated Approval Indication'] = df_combined['Accelerated Approval Indication'].astype(\"string\")\n",
    "df_combined['Conversion-Withdrawal Status'] = df_combined['Conversion-Withdrawal Status'].astype(\"string\")\n",
    "df_combined['Full Approval Conversion- Withdrawal Date'] = pd.to_datetime(df_combined['Full Approval Conversion- Withdrawal Date'])\n",
    "df_combined['Supplement Number'] = df_combined['Supplement Number'].astype(\"string\").fillna('').str.strip()\n",
    "df_combined['Supplement'] = df_combined['Supplement'].astype(\"string\").fillna('').str.strip()\n",
    "df_combined['Original'] = df_combined['Original'].astype(\"string\").fillna('').str.strip()\n",
    "\n",
    "# Define desired order\n",
    "desired_order = ['Application Number', 'Supplement', 'Supplement Number', 'Original', 'Proprietary Name', 'Established Name', 'Applicant', 'FDA Received Date', 'Accelerated Approval Date', 'Total Time to Accelerated Approval (Months)', 'Accelerated Approval Indication', 'Conversion-Withdrawal Status', 'Full Approval Conversion- Withdrawal Date']\n",
    "\n",
    "# Re-index the dataframe\n",
    "df_combined = df_combined[desired_order]"
   ]
  },
  {
   "cell_type": "code",
   "execution_count": null,
   "metadata": {},
   "outputs": [],
   "source": [
    "# Replace NaN in 'Total Time to Accelerated Approval (Months)' with None (null)\n",
    "df_combined['Total Time to Accelerated Approval (Months)'] = df_combined['Total Time to Accelerated Approval (Months)'].where(pd.notnull(df_combined['Total Time to Accelerated Approval (Months)']), None)\n"
   ]
  },
  {
   "cell_type": "code",
   "execution_count": null,
   "metadata": {},
   "outputs": [],
   "source": [
    "# Function to categorize indication\n",
    "def categorize_indication(indication):\n",
    "    indication_lower = str(indication).lower()\n",
    "    if 'adult' in indication_lower and 'pediatric' in indication_lower:\n",
    "        return 'Both Adult and Pediatric'\n",
    "    elif 'adult' in indication_lower:\n",
    "        return 'Adults Only'\n",
    "    elif 'pediatric' in indication_lower:\n",
    "        return 'Pediatric Only'\n",
    "    else:\n",
    "        return 'Unspecified'\n",
    "\n",
    "# Apply the function to the df_combined DataFrame\n",
    "df_combined['Category'] = df_combined['Accelerated Approval Indication'].apply(categorize_indication)\n",
    "\n",
    "# Display the updated DataFrame\n",
    "df_combined.head()\n"
   ]
  },
  {
   "cell_type": "code",
   "execution_count": null,
   "metadata": {},
   "outputs": [],
   "source": [
    "# Replace NaN values with an empty string\n",
    "df_combined['Original'] = df_combined['Original'].fillna('')\n",
    "\n",
    "# Strip whitespace from the new column\n",
    "df_combined['Original'] = df_combined['Original'].str.strip()"
   ]
  },
  {
   "cell_type": "code",
   "execution_count": null,
   "metadata": {},
   "outputs": [],
   "source": [
    "# Replace blank or empty values in the 'Original' column with 'ORIG 1' only if 'Supplement' contains a space\n",
    "df_combined.loc[df_combined['Supplement'] == '', 'Original'] = df_combined.loc[df_combined['Supplement'] == '', 'Original'].replace('', 'ORIG 1')\n",
    "df_combined['Original'] = df_combined['Original'].str.strip()"
   ]
  },
  {
   "cell_type": "code",
   "execution_count": null,
   "metadata": {},
   "outputs": [],
   "source": [
    "# CREATE new column combining App # + Suppl/ORIG + Suppl # in DF_COMBINED\n",
    "\n",
    "df_combined['Full_App_Supp_Number'] = df_combined.apply(\n",
    "    lambda row: f\"{row['Application Number']} {row['Supplement']} {row['Supplement Number']}\", axis=1\n",
    ")\n",
    "\n",
    "df_combined['Full_App_Supp_Number'] = df_combined.apply(\n",
    "    lambda row: f\"{row['Full_App_Supp_Number']} {row['Original']}\", axis=1\n",
    ")\n",
    "\n",
    "# Replace NaN values with an empty string\n",
    "df_combined['Full_App_Supp_Number'] = df_combined['Full_App_Supp_Number'].fillna('')\n",
    "\n",
    "# Strip whitespace from the new column\n",
    "df_combined['Full_App_Supp_Number'] = df_combined['Full_App_Supp_Number'].str.strip()"
   ]
  },
  {
   "cell_type": "code",
   "execution_count": null,
   "metadata": {},
   "outputs": [],
   "source": [
    "# Remove double spaces in Full App Supp Number\n",
    "df_combined['Full_App_Supp_Number'] = df_combined['Full_App_Supp_Number'].apply(lambda x: re.sub(' +', ' ', x))"
   ]
  },
  {
   "cell_type": "markdown",
   "metadata": {},
   "source": [
    "OpeFDA Data "
   ]
  },
  {
   "cell_type": "code",
   "execution_count": null,
   "metadata": {},
   "outputs": [],
   "source": [
    "# Import the openFDA parquet file\n",
    "\n",
    "import pandas as pd\n",
    "\n",
    "parquet_file = 'openfda.parquet'\n",
    "\n",
    "df_main = pd.read_parquet(parquet_file)\n",
    "\n",
    "# print(df.head())"
   ]
  },
  {
   "cell_type": "code",
   "execution_count": null,
   "metadata": {},
   "outputs": [],
   "source": [
    "# CREATE new column combining App # + Suppl + Suppl # in DF_MERGED, the OpenFDA data\n",
    "# Giives UNIQUE IDs that wiill match up to the AA data set\n",
    "df_main['Full_App_Supp_Number'] = df_main.apply(\n",
    "    lambda row: f\"{row['application_number_with_space']} {row['submissions_submission_type']} {row['submissions_submission_number']}\", axis=1\n",
    ")\n",
    "df_main['Full_App_Supp_Number'] = df_main['Full_App_Supp_Number'].apply(lambda x: re.sub(' +', ' ', x))"
   ]
  },
  {
   "cell_type": "code",
   "execution_count": null,
   "metadata": {},
   "outputs": [],
   "source": [
    "# Remove duplicates in the 'Full_App_Supp_Number' column, keeping only the first occurrence\n",
    "df_main_unique = df_main.drop_duplicates(subset=['Full_App_Supp_Number'], keep='first')\n"
   ]
  },
  {
   "cell_type": "code",
   "execution_count": null,
   "metadata": {},
   "outputs": [],
   "source": [
    "# Convert Open_FDA_route_x to a string\n",
    "df_main_unique['openfda_route_x'] = df_main_unique['openfda_route_x'].astype(\"string\").str.strip()\n"
   ]
  },
  {
   "cell_type": "code",
   "execution_count": null,
   "metadata": {},
   "outputs": [],
   "source": [
    "# CREATE NEW Merged DF\n",
    "# Adds OpenFDA ROUTE\n",
    "\n",
    "df_combined2 = df_combined.merge(df_main_unique[['Full_App_Supp_Number', 'openfda_route_x', 'submissions_submission_class_code_description', 'submissions_submission_property_type', 'products_te_code', 'products_marketing_status', 'submissions_review_priority']], \n",
    "                                 on='Full_App_Supp_Number', \n",
    "                                 how='left')"
   ]
  },
  {
   "cell_type": "code",
   "execution_count": null,
   "metadata": {},
   "outputs": [],
   "source": [
    "# CLEAN MISSING VALUES IN DF_COMBINED2\n",
    "df_combined2.loc[df_combined2['Application Number'] == 'NDA 214938', 'openfda_route_x'] = 'SUBCUTANEOUS'\n",
    "df_combined2.loc[df_combined2['Application Number'] == 'BLA 761137', 'openfda_route_x'] = 'INTRAVENOUS'\n",
    "df_combined2.loc[df_combined2['Application Number'] == 'NDA 216387', 'openfda_route_x'] = 'ORAL'\n",
    "df_combined2.loc[df_combined2['Application Number'] == 'NDA 202806', 'openfda_route_x'] = 'ORAL'\n",
    "df_combined2.loc[df_combined2['Application Number'] == 'BLA 761139', 'openfda_route_x'] = 'INTRAVENOUS'\n",
    "df_combined2.loc[df_combined2['Application Number'] == 'NDA 215935', 'openfda_route_x'] = 'ORAL'\n",
    "df_combined2.loc[df_combined2['Application Number'] == 'BLA 761223', 'openfda_route_x'] = 'INTRAVENOUS'\n",
    "df_combined2.loc[df_combined2['Application Number'] == 'NDA 214622', 'openfda_route_x'] = 'ORAL'\n",
    "df_combined2.loc[df_combined2['Application Number'] == 'BLA 761115', 'openfda_route_x'] = 'INTRAVENOUS'\n",
    "df_combined2.loc[df_combined2['Application Number'] == 'BLA 125557', 'openfda_route_x'] = 'INTRAVENOUS'\n",
    "df_combined2.loc[df_combined2['Application Number'] == 'NDA 214383', 'openfda_route_x'] = 'INTRAVENOUS'\n",
    "df_combined2.loc[df_combined2['Application Number'] == 'NDA 213176', 'openfda_route_x'] = 'ORAL'\n",
    "df_combined2.loc[df_combined2['Application Number'] == 'BLA 761145', 'openfda_route_x'] = 'INTRAVENOUS'\n",
    "df_combined2.loc[df_combined2['Application Number'] == 'NDA 214701', 'openfda_route_x'] = 'ORAL'\n",
    "df_combined2.loc[df_combined2['Application Number'] == 'BLA 761158', 'openfda_route_x'] = 'INTRAVENOUS'\n",
    "df_combined2.loc[df_combined2['Application Number'] == 'NDA 202306', 'openfda_route_x'] = 'ORAL'\n",
    "df_combined2.loc[df_combined2['Application Number'] == 'NDA 213400', 'openfda_route_x'] = 'ORAL'\n",
    "df_combined2.loc[df_combined2['Application Number'] == 'NDA 212306', 'openfda_route_x'] = 'ORAL'\n",
    "df_combined2.loc[df_combined2['Application Number'] == 'NDA 212726', 'openfda_route_x'] = 'ORAL'\n",
    "df_combined2.loc[df_combined2['Application Number'] == 'BLA 761121', 'openfda_route_x'] = 'INTRAVENOUS'\n",
    "df_combined2.loc[df_combined2['Application Number'] == 'NDA 211155', 'openfda_route_x'] = 'ORAL'\n",
    "df_combined2.loc[df_combined2['Application Number'] == 'BLA 761078', 'openfda_route_x'] = 'INTRAVENOUS'\n",
    "df_combined2.loc[df_combined2['Application Number'] == 'NDA 205353', 'openfda_route_x'] = 'ORAL'\n",
    "df_combined2.loc[df_combined2['Application Number'] == 'NDA 206162', 'openfda_route_x'] = 'ORAL'\n",
    "df_combined2.loc[df_combined2['Application Number'] == 'NDA 206256', 'openfda_route_x'] = 'INTRAVENOUS'\n",
    "df_combined2.loc[df_combined2['Application Number'] == 'NDA 205755', 'openfda_route_x'] = 'ORAL'\n",
    "df_combined2.loc[df_combined2['Application Number'] == 'NDA 203585', 'openfda_route_x'] = 'SUBCUTANEOUS'\n",
    "df_combined2.loc[df_combined2['Application Number'] == 'NDA 202497', 'openfda_route_x'] = 'INTRAVENOUS'\n",
    "df_combined2.loc[df_combined2['Application Number'] == 'NDA 022393', 'openfda_route_x'] = 'INTRAVENOUS'\n",
    "df_combined2.loc[df_combined2['Application Number'] == 'NDA 021945', 'openfda_route_x'] = 'INTRAMUSCULAR'\n",
    "df_combined2.loc[df_combined2['Application Number'] == 'NDA 022273', 'openfda_route_x'] = 'ORAL'\n",
    "df_combined2.loc[df_combined2['Application Number'] == 'NDA 022291', 'openfda_route_x'] = 'ORAL'\n",
    "df_combined2.loc[df_combined2['Application Number'] == 'NDA 020634', 'openfda_route_x'] = 'ORAL'\n",
    "df_combined2.loc[df_combined2['Application Number'] == 'NDA 021721', 'openfda_route_x'] = 'ORAL'\n",
    "df_combined2.loc[df_combined2['Application Number'] == 'NDA 021430', 'openfda_route_x'] = 'ORAL'\n",
    "df_combined2.loc[df_combined2['Application Number'] == 'NDA 021968', 'openfda_route_x'] = 'ORAL'\n",
    "df_combined2.loc[df_combined2['Application Number'] == 'BLA 125011', 'openfda_route_x'] = 'INTRAVENOUS'\n",
    "df_combined2.loc[df_combined2['Application Number'] == 'NDA 021322', 'openfda_route_x'] = 'SUBCUTANEOUS'\n",
    "df_combined2.loc[df_combined2['Application Number'] == 'NDA 021677', 'openfda_route_x'] = 'INTRAVENOUS'\n",
    "df_combined2.loc[df_combined2['Application Number'] == 'NDA 021335', 'openfda_route_x'] = 'ORAL'\n",
    "df_combined2.loc[df_combined2['Application Number'] == 'NDA 021399', 'openfda_route_x'] = 'ORAL'\n",
    "df_combined2.loc[df_combined2['Application Number'] == 'BLA 103979', 'openfda_route_x'] = 'INTRAVENOUS'\n",
    "df_combined2.loc[df_combined2['Application Number'] == 'NDA 021481', 'openfda_route_x'] = 'SUBCUTANEOUS'\n",
    "df_combined2.loc[df_combined2['Application Number'] == 'NDA 021335', 'openfda_route_x'] = 'ORAL'\n",
    "df_combined2.loc[df_combined2['Application Number'] == 'NDA 021492', 'openfda_route_x'] = 'INTRAVENOUS'\n",
    "df_combined2.loc[df_combined2['Application Number'] == 'NDA 021226', 'openfda_route_x'] = 'ORAL'\n",
    "df_combined2.loc[df_combined2['Application Number'] == 'NDA 019858', 'openfda_route_x'] = 'INTRAVENOUS'\n",
    "df_combined2.loc[df_combined2['Application Number'] == 'NDA 020780', 'openfda_route_x'] = 'ORAL'\n",
    "df_combined2.loc[df_combined2['Application Number'] == 'NDA 019847', 'openfda_route_x'] = 'INTRAVENOUS'\n",
    "df_combined2.loc[df_combined2['Application Number'] == 'NDA 019857', 'openfda_route_x'] = 'INTRAVENOUS'\n",
    "df_combined2.loc[df_combined2['Application Number'] == 'NDA 761060', 'openfda_route_x'] = 'INTRAVENOUS'\n",
    "df_combined2.loc[df_combined2['Application Number'] == 'NDA 021156', 'openfda_route_x'] = 'ORAL'\n",
    "df_combined2.loc[df_combined2['Application Number'] == 'NDA 050747', 'openfda_route_x'] = 'INTRAVENOUS'\n",
    "df_combined2.loc[df_combined2['Application Number'] == 'NDA 021007', 'openfda_route_x'] = 'ORAL'\n",
    "df_combined2.loc[df_combined2['Application Number'] == 'NDA 021041', 'openfda_route_x'] = 'INTRAVENOUS'\n",
    "df_combined2.loc[df_combined2['Application Number'] == 'BLA 103767', 'openfda_route_x'] = 'INTRAVENOUS'\n",
    "df_combined2.loc[df_combined2['Application Number'] == 'NDA 020977', 'openfda_route_x'] = 'ORAL'\n",
    "df_combined2.loc[df_combined2['Application Number'] == 'NDA 020972', 'openfda_route_x'] = 'ORAL'\n",
    "df_combined2.loc[df_combined2['Application Number'] == 'NDA 020636', 'openfda_route_x'] = 'ORAL'\n",
    "df_combined2.loc[df_combined2['Application Number'] == 'NDA 019832', 'openfda_route_x'] = 'TOPICAL'\n",
    "df_combined2.loc[df_combined2['Application Number'] == 'NDA 020896', 'openfda_route_x'] = 'ORAL'\n",
    "df_combined2.loc[df_combined2['Application Number'] == 'NDA 020705', 'openfda_route_x'] = 'ORAL'\n",
    "df_combined2.loc[df_combined2['Application Number'] == 'NDA 020778', 'openfda_route_x'] = 'ORAL'\n",
    "df_combined2.loc[df_combined2['Application Number'] == 'NDA 019815', 'openfda_route_x'] = 'ORAL'\n",
    "df_combined2.loc[df_combined2['Application Number'] == 'NDA 020604', 'openfda_route_x'] = 'SUBCUTANEOUS'\n",
    "df_combined2.loc[df_combined2['Application Number'] == 'NDA 020636', 'openfda_route_x'] = 'ORAL'\n",
    "df_combined2.loc[df_combined2['Application Number'] == 'NDA 020685', 'openfda_route_x'] = 'ORAL'\n",
    "df_combined2.loc[df_combined2['Application Number'] == 'NDA 020659', 'openfda_route_x'] = 'ORAL'\n",
    "df_combined2.loc[df_combined2['Application Number'] == 'NDA 020680', 'openfda_route_x'] = 'ORAL'\n",
    "df_combined2.loc[df_combined2['Application Number'] == 'NDA 020628', 'openfda_route_x'] = 'ORAL'\n",
    "df_combined2.loc[df_combined2['Application Number'] == 'NDA 020212', 'openfda_route_x'] = 'INTRAVENOUS'\n",
    "df_combined2.loc[df_combined2['Application Number'] == 'NDA 020412', 'openfda_route_x'] = 'ORAL'\n",
    "df_combined2.loc[df_combined2['Application Number'] == 'NDA 050697', 'openfda_route_x'] = 'ORAL'\n",
    "df_combined2.loc[df_combined2['Application Number'] == 'NDA 050698', 'openfda_route_x'] = 'ORAL'\n",
    "df_combined2.loc[df_combined2['Application Number'] == 'BLA 103471', 'openfda_route_x'] = 'SUBCUTANEOUS'\n",
    "df_combined2.loc[df_combined2['Application Number'] == 'NDA 020199', 'openfda_route_x'] = 'ORAL'\n",
    "df_combined2.loc[df_combined2['Application Number'] == 'BLA 761208', 'openfda_route_x'] = 'INTRAVENOUS'\n",
    "df_combined2.loc[df_combined2['Application Number'] == 'BLA 761038', 'openfda_route_x'] = 'INTRAVENOUS'\n",
    "df_combined2.loc[df_combined2['Application Number'] == 'NDA 020635', 'openfda_route_x'] = 'INTRAVENOUS'\n",
    "df_combined2.loc[df_combined2['Application Number'] == 'BLA 125019', 'openfda_route_x'] = 'INTRAVENOUS'\n",
    "df_combined2.loc[df_combined2['Application Number'] == 'NDA 019537', 'openfda_route_x'] = 'INTRAVENOUS'\n",
    "df_combined2.loc[df_combined2['Application Number'] == 'NDA 021174', 'openfda_route_x'] = 'INTRAVENOUS'\n",
    "df_combined2.loc[df_combined2['Application Number'] == 'NDA 021039', 'openfda_route_x'] = 'ORAL'\n",
    "\n",
    "# Remove single quotes and brackets\n",
    "df_combined2['openfda_route_x'] = df_combined2['openfda_route_x'].str.replace(r\"[\\'\\[\\]]\", \"\", regex=True).str.strip()\n"
   ]
  },
  {
   "cell_type": "markdown",
   "metadata": {},
   "source": [
    "Combine Drug Company list and PDUFA fees list"
   ]
  },
  {
   "cell_type": "code",
   "execution_count": null,
   "metadata": {},
   "outputs": [],
   "source": [
    "# LOAD DRUG COMPANY AND COUNTRY LIST\n",
    "\n",
    "file_path = 'drugcompanycountries.xlsx' \n",
    "df_drugcompanycountries = pd.read_excel(file_path)\n",
    "\n",
    "df_combined2['Applicant'] = df_combined2['Applicant'].astype(\"string\").str.replace('\\n', ' ').str.replace('\\r', ' ').str.strip()\n",
    "\n",
    "# Merge to df_combined2 based on Applicant \n",
    "df_combined2_merged = pd.merge(df_combined2, df_drugcompanycountries[['Applicant', 'Country']], on='Applicant', how='left')"
   ]
  },
  {
   "cell_type": "code",
   "execution_count": null,
   "metadata": {},
   "outputs": [],
   "source": [
    "# Convert FDA Received Date to datetime. Then save just the year to RecvDate\n",
    "\n",
    "df_combined2_merged['FDA Received Date'] = pd.to_datetime(df_combined2_merged['FDA Received Date'])\n",
    "\n",
    "df_combined2_merged['RecvDate'] = df_combined2_merged['FDA Received Date'].dt.year.astype(int)\n",
    "\n",
    "# Load PDUFA Fees list\n",
    "\n",
    "file_path = 'PDUFAFees.xlsx' \n",
    "df_PDUFAFees = pd.read_excel(file_path)"
   ]
  },
  {
   "cell_type": "code",
   "execution_count": null,
   "metadata": {},
   "outputs": [],
   "source": [
    "# Calculate time to conversion\n",
    "df_combined2_merged['Total Time to Conversion (Months)'] = ((df_combined2_merged['Full Approval Conversion- Withdrawal Date'] - df_combined2_merged['Accelerated Approval Date']).dt.days / 30).round()"
   ]
  },
  {
   "cell_type": "code",
   "execution_count": null,
   "metadata": {},
   "outputs": [],
   "source": [
    "# Merge PDUFA Fees list on Year\n",
    "df_combined2_merged2 = pd.merge(df_combined2_merged, df_PDUFAFees[['Year', 'Fees']], left_on='RecvDate', right_on='Year', how='left')"
   ]
  },
  {
   "cell_type": "code",
   "execution_count": null,
   "metadata": {},
   "outputs": [],
   "source": [
    "# Drop the Year and RecvDate columns\n",
    "df_combined2_merged2.drop('Year', axis=1, inplace=True)\n",
    "# df_combined2_merged2.drop('RecvDate', axis=1, inplace=True)"
   ]
  },
  {
   "cell_type": "code",
   "execution_count": null,
   "metadata": {},
   "outputs": [],
   "source": [
    "# Create a dictionary from df_PDUFAFees for quick lookup\n",
    "# Testing out how to use dictionaries\n",
    "fees_dict = df_PDUFAFees.set_index('Year')['SupplementFees'].to_dict()\n",
    "\n",
    "# Update the 'Fees' column with the supplement fees for each respective year, if the submission is an Efficacy supplement.\n",
    "df_combined2_merged2.loc[\n",
    "    (df_combined2_merged2['submissions_submission_class_code_description'] == 'Efficacy') &\n",
    "    (df_combined2_merged2['RecvDate'] < 2018),\n",
    "    'Fees'\n",
    "] = df_combined2_merged2['RecvDate'].map(fees_dict)"
   ]
  },
  {
   "cell_type": "code",
   "execution_count": null,
   "metadata": {},
   "outputs": [],
   "source": [
    "# Update the 'Fees' column based on PDUFA VI no longer collecting fees for efficacy supplements\n",
    "df_combined2_merged2.loc[\n",
    "    (df_combined2_merged2['submissions_submission_class_code_description'] == 'Efficacy') &\n",
    "    (df_combined2_merged2['RecvDate'].isin([2018, 2019, 2020, 2021, 2022, 2023, 2024, 2025, 2026, 2027])),\n",
    "    'Fees'\n",
    "] = 0"
   ]
  },
  {
   "cell_type": "markdown",
   "metadata": {},
   "source": [
    "Export Dataframe"
   ]
  },
  {
   "cell_type": "code",
   "execution_count": null,
   "metadata": {},
   "outputs": [],
   "source": [
    "output = 'accelerated_approvals_vis.xlsx'\n",
    "df_combined2_merged2.to_excel(output, index=False)\n",
    "print(f\"Dataframe has been exported to {output}\")"
   ]
  }
 ],
 "metadata": {
  "kernelspec": {
   "display_name": "Python 3",
   "language": "python",
   "name": "python3"
  },
  "language_info": {
   "codemirror_mode": {
    "name": "ipython",
    "version": 3
   },
   "file_extension": ".py",
   "mimetype": "text/x-python",
   "name": "python",
   "nbconvert_exporter": "python",
   "pygments_lexer": "ipython3",
   "version": "3.12.4"
  }
 },
 "nbformat": 4,
 "nbformat_minor": 2
}
