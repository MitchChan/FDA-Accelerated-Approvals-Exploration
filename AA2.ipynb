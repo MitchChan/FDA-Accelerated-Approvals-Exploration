{
 "cells": [
  {
   "cell_type": "code",
   "execution_count": 8,
   "metadata": {},
   "outputs": [],
   "source": [
    "from tabula import read_pdf\n",
    "import pandas as pd\n",
    "\n",
    "# Path to the PDF file\n",
    "pdf_path = \"CDERAA.pdf\"\n",
    "\n",
    "# Read the PDF into a list of DataFrames\n",
    "dfs = read_pdf(pdf_path, pages=\"all\", multiple_tables=True, encoding=\"utf-8\")\n",
    "\n",
    "# Combine all DataFrames into one\n",
    "df_combined = pd.concat(dfs, ignore_index=True)\n",
    "\n",
    "# Remove the first 3 rows\n",
    "df_combined = df_combined.iloc[4:].reset_index(drop=True)\n",
    "\n",
    "# Set the first row as the header\n",
    "df_combined.columns = df_combined.iloc[0]\n",
    "df_combined = df_combined[1:].reset_index(drop=True)\n",
    "\n",
    "# Remove the last nan column that's empty and who's title is NaN\n",
    "df_combined = df_combined.drop(df_combined.columns[-1], axis=1)\n",
    "\n",
    "# Replace carriage return and new line\n",
    "df_combined.columns = df_combined.columns.str.replace('\\r', ' ').str.replace('\\n', '')\n",
    "df_combined.columns = df_combined.columns.str.strip()\n",
    "# Remove extra spaces/double spaces\n",
    "df_combined.columns = df_combined.columns.str.replace(r'\\s+', ' ', regex=True)\n",
    "\n",
    "# Remove parsed index column\n",
    "# df_combined = df_combined.drop(columns='index')"
   ]
  },
  {
   "cell_type": "code",
   "execution_count": 9,
   "metadata": {},
   "outputs": [
    {
     "name": "stdout",
     "output_type": "stream",
     "text": [
      "87\n",
      "87\n"
     ]
    }
   ],
   "source": [
    "# Split Application Number and Supplement Number\n",
    "# Regex \\d means to 'match any digit'\n",
    "df_combined['Supplement Number'] = df_combined['Application Number'].str.extract(r'(Supplement \\d+)', expand=False)\n",
    "\n",
    "# Cleam the original \"Application Number\" column to remove the \"Supplement\" part\n",
    "df_combined['Application Number'] = df_combined['Application Number'].str.replace(r'\\s*Supplement \\d+', '', regex=True)\n",
    "\n",
    "#\n",
    "\n",
    "# Drop rows that contain NaN in Proprietary Name\n",
    "# Proprietary name should always have a value in this list. \n",
    "# This provides an accurate way of knowing which rows are junk text from the PDF\n",
    "df_combined = df_combined.dropna(subset=['Proprietary Name'])\n",
    "\n",
    "# Remove non-integer characters and convert to integers\n",
    "# Regex: /D identifies any character not a digit\n",
    "df_combined['Total Time to Accelerated Approval (Months)'] = df_combined['Total Time to Accelerated Approval (Months)'].str.replace(r'\\D', '', regex=True)\n",
    "df_combined = df_combined[~df_combined['Total Time to Accelerated Approval (Months)'].astype(str).str.contains('†', regex=False)]\n",
    "\n",
    "# The column contains dates that have extra numbers, making it invalid\n",
    "# This code ensures the dates are in a date format and removes extra numbers\n",
    "df_combined['Full Approval Conversion- Withdrawal Date'] = df_combined['Full Approval Conversion- Withdrawal Date'].str.split().str[0]\n",
    "\n",
    "# Check for # of NaN/NaT\n",
    "\n",
    "numofnans = df_combined['Full Approval Conversion- Withdrawal Date'].isna().sum()\n",
    "print(numofnans)\n",
    "\n",
    "# convert to datetime, coerce errors to Not a Time\n",
    "# Removes any NaN/NaT\n",
    "df_combined['Full Approval Conversion- Withdrawal Date'] = pd.to_datetime(df_combined['Full Approval Conversion- Withdrawal Date'], errors='coerce')\n",
    "\n",
    "# Check again for # of NaN just to make sure we didn't remove things that shouldn't have\n",
    "numofnans = df_combined['Full Approval Conversion- Withdrawal Date'].isna().sum()\n",
    "print(numofnans)"
   ]
  },
  {
   "cell_type": "code",
   "execution_count": 14,
   "metadata": {},
   "outputs": [],
   "source": [
    "# Change column dtypes \n",
    "\n",
    "df_combined['Application Number'] = df_combined['Application Number'].astype(\"string\")\n",
    "df_combined['Proprietary Name'] = df_combined['Proprietary Name'].astype(\"string\")\n",
    "df_combined['Established Name'] = df_combined['Established Name'].astype('string')\n",
    "df_combined['Applicant'] = df_combined['Applicant'].astype(\"string\")\n",
    "df_combined['FDA Received Date'] = df_combined['FDA Received Date'].astype(\"datetime64[ns]\")\n",
    "df_combined['Accelerated Approval Date'] = df_combined['Accelerated Approval Date'].astype(\"datetime64[ns]\")\n",
    "df_combined['Total Time to Accelerated Approval (Months)'] = df_combined['Total Time to Accelerated Approval (Months)'].astype(\"float\")\n",
    "df_combined['Accelerated Approval Indication'] = df_combined['Accelerated Approval Indication'].astype(\"string\")\n",
    "df_combined['Conversion-Withdrawal Status'] = df_combined['Conversion-Withdrawal Status'].astype(\"string\")\n",
    "df_combined['Full Approval Conversion- Withdrawal Date'] = df_combined['Full Approval Conversion- Withdrawal Date'].astype(\"datetime64[ns]\")\n",
    "df_combined['Supplement Number'] = df_combined['Supplement Number'].astype(\"string\")\n",
    "\n",
    "# Define desired order\n",
    "desired_order = ['Application Number', 'Supplement Number', 'Proprietary Name', 'Established Name', 'Applicant', 'FDA Received Date', 'Accelerated Approval Date', 'Total Time to Accelerated Approval (Months)', 'Accelerated Approval Indication', 'Conversion-Withdrawal Status', 'Full Approval Conversion- Withdrawal Date', 'Supplement Number']\n",
    "# Re-index the dataframe\n",
    "df_combined = df_combined[desired_order]\n",
    "\n"
   ]
  },
  {
   "cell_type": "code",
   "execution_count": 11,
   "metadata": {},
   "outputs": [
    {
     "data": {
      "text/plain": [
       "0\n",
       "Application Number                             string[python]\n",
       "Proprietary Name                               string[python]\n",
       "Established Name                               string[python]\n",
       "Applicant                                      string[python]\n",
       "FDA Received Date                              datetime64[ns]\n",
       "Accelerated Approval Date                      datetime64[ns]\n",
       "Total Time to Accelerated Approval (Months)           float64\n",
       "Accelerated Approval Indication                string[python]\n",
       "Conversion-Withdrawal Status                   string[python]\n",
       "Full Approval Conversion- Withdrawal Date      datetime64[ns]\n",
       "Supplement Number                              string[python]\n",
       "dtype: object"
      ]
     },
     "execution_count": 11,
     "metadata": {},
     "output_type": "execute_result"
    }
   ],
   "source": [
    "# Check datatypes\n",
    "df_combined.dtypes"
   ]
  },
  {
   "cell_type": "code",
   "execution_count": 12,
   "metadata": {},
   "outputs": [
    {
     "data": {
      "text/plain": [
       "Index(['Application Number', 'Proprietary Name', 'Established Name',\n",
       "       'Applicant', 'FDA Received Date', 'Accelerated Approval Date',\n",
       "       'Total Time to Accelerated Approval (Months)',\n",
       "       'Accelerated Approval Indication', 'Conversion-Withdrawal Status',\n",
       "       'Full Approval Conversion- Withdrawal Date', 'Supplement Number'],\n",
       "      dtype='object', name=0)"
      ]
     },
     "execution_count": 12,
     "metadata": {},
     "output_type": "execute_result"
    }
   ],
   "source": [
    "# check columns\n",
    "df_combined.columns"
   ]
  }
 ],
 "metadata": {
  "kernelspec": {
   "display_name": "Python 3",
   "language": "python",
   "name": "python3"
  },
  "language_info": {
   "codemirror_mode": {
    "name": "ipython",
    "version": 3
   },
   "file_extension": ".py",
   "mimetype": "text/x-python",
   "name": "python",
   "nbconvert_exporter": "python",
   "pygments_lexer": "ipython3",
   "version": "3.10.5"
  }
 },
 "nbformat": 4,
 "nbformat_minor": 2
}
